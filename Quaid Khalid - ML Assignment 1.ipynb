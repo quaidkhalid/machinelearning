{
 "cells": [
  {
   "cell_type": "markdown",
   "id": "82e3ba4f",
   "metadata": {},
   "source": [
    "## Objective\n",
    "\n",
    "Comparative study of KNN and Decision tree for predicting Students Adaptability level in Online Education."
   ]
  },
  {
   "cell_type": "markdown",
   "id": "62013500",
   "metadata": {},
   "source": [
    "### Import libraries"
   ]
  },
  {
   "cell_type": "code",
   "execution_count": null,
   "id": "55d2868e",
   "metadata": {},
   "outputs": [],
   "source": [
    "import pandas as pd\n",
    "import matplotlib.pyplot as plt\n",
    "import numpy as np\n",
    "import seaborn as sns\n",
    "import warnings\n",
    "warnings.filterwarnings(\"ignore\")"
   ]
  },
  {
   "cell_type": "markdown",
   "id": "eb39d5c0",
   "metadata": {},
   "source": [
    "### Read Data"
   ]
  },
  {
   "cell_type": "code",
   "execution_count": null,
   "id": "ef0e3374",
   "metadata": {},
   "outputs": [],
   "source": [
    "df = pd.read_csv(\"Quaid Khalid - students_adaptability_level_online_education.csv\")\n",
    "df.head()\n",
    "df.columns"
   ]
  },
  {
   "cell_type": "code",
   "execution_count": null,
   "id": "5acf4b15",
   "metadata": {},
   "outputs": [],
   "source": [
    "df.columns.str.strip()"
   ]
  },
  {
   "cell_type": "code",
   "execution_count": null,
   "id": "a2a1fb75",
   "metadata": {},
   "outputs": [],
   "source": [
    "df.info()"
   ]
  },
  {
   "cell_type": "markdown",
   "id": "27861f00",
   "metadata": {},
   "source": [
    "### Generate Data Profiling Report"
   ]
  },
  {
   "cell_type": "code",
   "execution_count": null,
   "id": "03fb0795",
   "metadata": {},
   "outputs": [],
   "source": [
    "from ydata_profiling import ProfileReport\n",
    "profile = ProfileReport(df)\n",
    "profile.to_notebook_iframe()"
   ]
  },
  {
   "cell_type": "code",
   "execution_count": null,
   "id": "abca01be",
   "metadata": {},
   "outputs": [],
   "source": [
    "df.duplicated().sum()"
   ]
  },
  {
   "cell_type": "code",
   "execution_count": null,
   "id": "e7a55daa",
   "metadata": {},
   "outputs": [],
   "source": [
    "df[\"new_index\"] = range(0,1205)\n",
    "df.head(2)"
   ]
  },
  {
   "cell_type": "code",
   "execution_count": null,
   "id": "5828d82a",
   "metadata": {},
   "outputs": [],
   "source": [
    "df.duplicated().sum()"
   ]
  },
  {
   "cell_type": "code",
   "execution_count": null,
   "id": "2346bc7a",
   "metadata": {},
   "outputs": [],
   "source": [
    "df.info()"
   ]
  },
  {
   "cell_type": "markdown",
   "id": "1e22d7ad",
   "metadata": {},
   "source": [
    "# Encoding"
   ]
  },
  {
   "cell_type": "markdown",
   "id": "4f7cc73c",
   "metadata": {},
   "source": [
    "Choose a suitable encoding technique for the columns."
   ]
  },
  {
   "cell_type": "code",
   "execution_count": null,
   "id": "4c5237a8",
   "metadata": {},
   "outputs": [],
   "source": [
    "columns = df[[\"Gender\",\"Institution Type\",\"IT Student\",\"Location\",\"Load-shedding\",\"Internet Type\",\"Self Lms\",\"Network Type\",\"Device\"]]\n",
    "columns"
   ]
  },
  {
   "cell_type": "code",
   "execution_count": null,
   "id": "8bdd3a49",
   "metadata": {},
   "outputs": [],
   "source": [
    "from sklearn.preprocessing import OneHotEncoder\n",
    "\n",
    "df = pd.get_dummies(df, columns =[\"Gender\",\"Institution Type\",\"IT Student\",\"Location\",\"Load-shedding\",\"Internet Type\",\"Self Lms\",\"Network Type\",\"Device\"], dtype=int) \n",
    "df.head(2)"
   ]
  },
  {
   "cell_type": "code",
   "execution_count": null,
   "id": "9b50bb5c",
   "metadata": {},
   "outputs": [],
   "source": [
    "df[\"Age\"].value_counts()"
   ]
  },
  {
   "cell_type": "code",
   "execution_count": null,
   "id": "f5c89b67",
   "metadata": {},
   "outputs": [],
   "source": [
    "df[\"Education Level\"].value_counts()"
   ]
  },
  {
   "cell_type": "code",
   "execution_count": null,
   "id": "71c69532",
   "metadata": {},
   "outputs": [],
   "source": [
    "df[\"Financial Condition\"].value_counts()"
   ]
  },
  {
   "cell_type": "code",
   "execution_count": null,
   "id": "efb53cae",
   "metadata": {},
   "outputs": [],
   "source": [
    "\n",
    "df[\"Class Duration\"].value_counts()"
   ]
  },
  {
   "cell_type": "code",
   "execution_count": null,
   "id": "7dd78aac",
   "metadata": {},
   "outputs": [],
   "source": [
    "Age_encoding = {'1-5': 1, '6-10': 2, '11-15': 3, '16-20': 4, '21-25': 5, '26-30': 6}\n",
    "Education_Level_encoding = {'School': 1, 'College': 2, 'University': 3}\n",
    "Financial_Condition_encoding = {'Poor': 1, 'Mid': 2, 'Rich': 3}\n",
    "Class_Duration_encoding = {'0': 1, '1-3': 2, '3-6': 3}\n",
    "\n",
    "df['Age_encoding'] = df['Age'].map(Age_encoding)\n",
    "df['Education Level_encoding'] = df['Education Level'].map(Education_Level_encoding)\n",
    "df['Financial Condition_encoding'] = df['Financial Condition'].map(Financial_Condition_encoding)\n",
    "df['Class Duration_encoding'] = df['Class Duration'].map(Class_Duration_encoding)\n",
    "df.head()"
   ]
  },
  {
   "cell_type": "code",
   "execution_count": null,
   "id": "5d3ed815",
   "metadata": {},
   "outputs": [],
   "source": [
    "from sklearn.preprocessing import LabelEncoder\n",
    "\n",
    "label_encoder = LabelEncoder()\n",
    "df['encoded_Adaptivity Level'] = label_encoder.fit_transform(df['Adaptivity Level'])\n",
    "df.head()"
   ]
  },
  {
   "cell_type": "code",
   "execution_count": null,
   "id": "155fcf7d",
   "metadata": {},
   "outputs": [],
   "source": [
    "df.drop(columns=['Age','Education Level','Financial Condition','Class Duration','Adaptivity Level'],inplace=True)\n",
    "df.head()"
   ]
  },
  {
   "cell_type": "code",
   "execution_count": null,
   "id": "21c82d5d",
   "metadata": {},
   "outputs": [],
   "source": [
    "# df.info()\n",
    "df[\"encoded_Adaptivity Level\"].value_counts()"
   ]
  },
  {
   "cell_type": "markdown",
   "id": "9aaedcc3",
   "metadata": {},
   "source": [
    "### Check distribution"
   ]
  },
  {
   "cell_type": "code",
   "execution_count": null,
   "id": "b15f59fb",
   "metadata": {},
   "outputs": [],
   "source": [
    "\n",
    "columns = ['Gender', 'Age', 'Education Level', 'Institution Type', 'IT Student',\n",
    "       'Location', 'Load-shedding', 'Financial Condition', 'Internet Type',\n",
    "       'Network Type', 'Class Duration', 'Self Lms', 'Device',\n",
    "       'Adaptivity Level']\n",
    "\n",
    "\n",
    "num_columns = len(columns)  # Calculate the number of rows needed for subplots\n",
    "num_rows = (num_columns + 2) // 3  # This will ensure that there are 3 columns per row\n",
    "\n",
    "\n",
    "plt.figure(figsize=(15, num_rows*4))\n",
    "\n",
    "\n",
    "for i, column in enumerate(columns):\n",
    "    plt.subplot(num_rows, 3, i+1)  \n",
    "    sns.histplot(df[column], kde=False)\n",
    "    plt.title(f'Distribution of {column}')\n",
    "    plt.xticks(rotation=45)\n",
    "\n",
    "\n",
    "plt.tight_layout()\n",
    "plt.show()\n"
   ]
  },
  {
   "cell_type": "markdown",
   "id": "74abaa76",
   "metadata": {},
   "source": [
    "# Machine Learning Algorithms"
   ]
  },
  {
   "cell_type": "markdown",
   "id": "79dfaf87",
   "metadata": {},
   "source": [
    "Use KNN and Decision tree and find which one is working better."
   ]
  },
  {
   "cell_type": "markdown",
   "id": "60e54425",
   "metadata": {},
   "source": [
    "### Define X and Y"
   ]
  },
  {
   "cell_type": "code",
   "execution_count": null,
   "id": "6f43ced6",
   "metadata": {},
   "outputs": [],
   "source": [
    "X = df.drop('encoded_Adaptivity Level', axis=1)\n",
    "y = df['encoded_Adaptivity Level']"
   ]
  },
  {
   "cell_type": "markdown",
   "id": "dc801cb2",
   "metadata": {},
   "source": [
    "### Feature Scaling"
   ]
  },
  {
   "cell_type": "code",
   "execution_count": null,
   "id": "075a0b6b",
   "metadata": {},
   "outputs": [],
   "source": [
    "from sklearn.preprocessing import StandardScaler, MinMaxScaler"
   ]
  },
  {
   "cell_type": "code",
   "execution_count": null,
   "id": "a26c942d",
   "metadata": {},
   "outputs": [],
   "source": [
    "# Normalize the features\n",
    "\n",
    "min_max_scaler = MinMaxScaler()"
   ]
  },
  {
   "cell_type": "code",
   "execution_count": null,
   "id": "bc1f67b7",
   "metadata": {},
   "outputs": [],
   "source": [
    "min_max_scaler.fit(X)"
   ]
  },
  {
   "cell_type": "code",
   "execution_count": null,
   "id": "d400e911",
   "metadata": {},
   "outputs": [],
   "source": [
    "scaled_features = min_max_scaler.transform(X)"
   ]
  },
  {
   "cell_type": "code",
   "execution_count": null,
   "id": "e647e4a5",
   "metadata": {},
   "outputs": [],
   "source": [
    "scaled_features"
   ]
  },
  {
   "cell_type": "code",
   "execution_count": null,
   "id": "fde96edf",
   "metadata": {},
   "outputs": [],
   "source": [
    "df_feat = pd.DataFrame(scaled_features,columns=df.columns[:-1])\n",
    "df_feat.head()"
   ]
  },
  {
   "cell_type": "markdown",
   "id": "3bf45690",
   "metadata": {},
   "source": [
    "### Train Test Split"
   ]
  },
  {
   "cell_type": "code",
   "execution_count": null,
   "id": "0f08bdf8",
   "metadata": {},
   "outputs": [],
   "source": [
    "from sklearn.model_selection import train_test_split"
   ]
  },
  {
   "cell_type": "code",
   "execution_count": null,
   "id": "f0c1c08e",
   "metadata": {},
   "outputs": [],
   "source": [
    "X_train, X_test, y_train, y_test = train_test_split(scaled_features,  y,  test_size=0.30)"
   ]
  },
  {
   "cell_type": "markdown",
   "id": "be023597",
   "metadata": {},
   "source": [
    "# KNN"
   ]
  },
  {
   "cell_type": "code",
   "execution_count": null,
   "id": "e0b3da41",
   "metadata": {},
   "outputs": [],
   "source": [
    "from sklearn.neighbors import KNeighborsClassifier"
   ]
  },
  {
   "cell_type": "code",
   "execution_count": null,
   "id": "bcb33db3",
   "metadata": {},
   "outputs": [],
   "source": [
    "knn = KNeighborsClassifier(n_neighbors=1)"
   ]
  },
  {
   "cell_type": "code",
   "execution_count": null,
   "id": "e94fb237",
   "metadata": {},
   "outputs": [],
   "source": [
    "knn.fit(X_train,y_train)"
   ]
  },
  {
   "cell_type": "code",
   "execution_count": null,
   "id": "772f42c1",
   "metadata": {},
   "outputs": [],
   "source": [
    "pred = knn.predict(X_test)"
   ]
  },
  {
   "cell_type": "markdown",
   "id": "2288e2a5",
   "metadata": {},
   "source": [
    "### Predictions and Evaluations\n",
    "    Let's evaluate our KNN model!"
   ]
  },
  {
   "cell_type": "code",
   "execution_count": null,
   "id": "9c9b5341",
   "metadata": {},
   "outputs": [],
   "source": [
    "from sklearn.metrics import classification_report,confusion_matrix"
   ]
  },
  {
   "cell_type": "code",
   "execution_count": null,
   "id": "11319f63",
   "metadata": {},
   "outputs": [],
   "source": [
    "print(confusion_matrix(y_test,pred))"
   ]
  },
  {
   "cell_type": "code",
   "execution_count": null,
   "id": "726872b9",
   "metadata": {},
   "outputs": [],
   "source": [
    "print(classification_report(y_test,pred))"
   ]
  },
  {
   "cell_type": "code",
   "execution_count": null,
   "id": "d56a53ff",
   "metadata": {},
   "outputs": [],
   "source": [
    "#Training Accuracy\n",
    "print(knn.score(X_train, y_train))"
   ]
  },
  {
   "cell_type": "code",
   "execution_count": null,
   "id": "e8112875",
   "metadata": {},
   "outputs": [],
   "source": [
    "#Testing Accuracy\n",
    "print(knn.score(X_test, y_test))"
   ]
  },
  {
   "cell_type": "markdown",
   "id": "7e1ed2e8",
   "metadata": {},
   "source": [
    "# Decision Tree\n",
    "\n",
    "**Using Entropy**"
   ]
  },
  {
   "cell_type": "code",
   "execution_count": null,
   "id": "8c4106c3",
   "metadata": {},
   "outputs": [],
   "source": [
    "from sklearn.tree import DecisionTreeClassifier\n",
    "from sklearn.metrics import accuracy_score\n",
    "from sklearn.model_selection import train_test_split"
   ]
  },
  {
   "cell_type": "code",
   "execution_count": null,
   "id": "d123ca6d",
   "metadata": {},
   "outputs": [],
   "source": [
    "# Initializing and training the Decision Tree Classifier with Information Gain (Entropy)\n",
    "dt_entropy = DecisionTreeClassifier(criterion='entropy', random_state=42)\n",
    "dt_entropy.fit(X_train, y_train)"
   ]
  },
  {
   "cell_type": "code",
   "execution_count": null,
   "id": "cac2f3fc",
   "metadata": {},
   "outputs": [],
   "source": [
    "# Making predictions and evaluating the models\n",
    "y_pred_entropy = dt_entropy.predict(X_test)\n",
    "\n",
    "accuracy_entropy = accuracy_score(y_test, y_pred_entropy)\n",
    "\n",
    "accuracy_entropy"
   ]
  },
  {
   "cell_type": "markdown",
   "id": "66dbf093",
   "metadata": {},
   "source": [
    "**Use Gini Index**"
   ]
  },
  {
   "cell_type": "code",
   "execution_count": null,
   "id": "53b2a6e1",
   "metadata": {},
   "outputs": [],
   "source": [
    "# Initializing and training the Decision Tree Classifier with Gini\n",
    "dt_gini = DecisionTreeClassifier(criterion='gini', random_state=42)\n",
    "dt_gini.fit(X_train, y_train)"
   ]
  },
  {
   "cell_type": "code",
   "execution_count": null,
   "id": "9133a5e9",
   "metadata": {},
   "outputs": [],
   "source": [
    "# Making predictions and evaluating the models\n",
    "y_pred_gini = dt_gini.predict(X_test)\n",
    "\n",
    "accuracy_gini = accuracy_score(y_test, y_pred_gini)\n",
    "\n",
    "accuracy_gini"
   ]
  },
  {
   "cell_type": "code",
   "execution_count": null,
   "id": "e40cacda",
   "metadata": {},
   "outputs": [],
   "source": [
    "from sklearn.tree import DecisionTreeClassifier\n",
    "import matplotlib.pyplot as plt\n",
    "import pandas as pd\n",
    "\n",
    "# Train a Decision Tree Model\n",
    "dt_model = DecisionTreeClassifier(random_state=42)\n",
    "dt_model.fit(X, y)\n",
    "\n",
    "# Get Feature Importances\n",
    "importances = dt_model.feature_importances_\n",
    "\n",
    "# Convert to a DataFrame\n",
    "feature_importances = pd.DataFrame({'feature': X.columns, 'importance': importances})\n",
    "\n",
    "# Sort the DataFrame by importance\n",
    "feature_importances = feature_importances.sort_values(by='importance', ascending=False)\n",
    "\n",
    "# Visualize Feature Importances\n",
    "plt.figure(figsize=(12, 6))\n",
    "plt.bar(feature_importances['feature'], feature_importances['importance'])\n",
    "plt.xlabel('Features')\n",
    "plt.ylabel('Importance')\n",
    "plt.xticks(rotation=90)\n",
    "plt.title('Feature Importances')\n",
    "plt.show()"
   ]
  },
  {
   "cell_type": "markdown",
   "id": "60e29891",
   "metadata": {},
   "source": [
    "# All the Best!"
   ]
  }
 ],
 "metadata": {
  "kernelspec": {
   "display_name": "Python 3 (ipykernel)",
   "language": "python",
   "name": "python3"
  },
  "language_info": {
   "codemirror_mode": {
    "name": "ipython",
    "version": 3
   },
   "file_extension": ".py",
   "mimetype": "text/x-python",
   "name": "python",
   "nbconvert_exporter": "python",
   "pygments_lexer": "ipython3",
   "version": "3.11.5"
  }
 },
 "nbformat": 4,
 "nbformat_minor": 5
}
